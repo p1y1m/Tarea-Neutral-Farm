{
  "cells": [
    {
      "cell_type": "code",
      "execution_count": null,
      "metadata": {
        "id": "Ycd_ODG2d2az"
      },
      "outputs": [],
      "source": [
        "# montar google drive para guardar y acceder a los archivos del proyecto\n",
        "from google.colab import drive\n",
        "drive.mount('/content/drive')"
      ]
    },
    {
      "cell_type": "code",
      "execution_count": null,
      "metadata": {
        "colab": {
          "base_uri": "https://localhost:8080/"
        },
        "id": "sYuYBMj2fomr",
        "outputId": "12114b61-0b4b-4e99-8bcd-8d473c235700"
      },
      "outputs": [
        {
          "name": "stdout",
          "output_type": "stream",
          "text": [
            "/content/drive/MyDrive/Pedro Yanez - neutral-farming-om\n",
            ".:\n",
            "data  model  README.md\trequirements.txt  src\n",
            "\n",
            "./data:\n",
            "organic_matter_dataset.csv\n",
            "\n",
            "./model:\n",
            "artifacts\n",
            "\n",
            "./model/artifacts:\n",
            "metrics.json  model.joblib\n",
            "\n",
            "./src:\n",
            "api.py\tdb.py  __init__.py  models.py  schema.py  train_model.py  utils.py\n"
          ]
        }
      ],
      "source": [
        "# Entrar a la carpeta del proyecto en Google Drive y mostrar todos los archivos que contiene\n",
        "%cd \"/content/drive/MyDrive/Pedro Yanez - neutral-farming-om\"\n",
        "!ls -R\n"
      ]
    },
    {
      "cell_type": "code",
      "execution_count": null,
      "metadata": {
        "colab": {
          "base_uri": "https://localhost:8080/"
        },
        "id": "O0yEIzVCgTJz",
        "outputId": "62d4ba71-aa1a-43fa-a787-f588bd879505"
      },
      "outputs": [
        {
          "name": "stdout",
          "output_type": "stream",
          "text": [
            "Requirement already satisfied: fastapi==0.111.0 in /usr/local/lib/python3.12/dist-packages (from -r requirements.txt (line 1)) (0.111.0)\n",
            "Requirement already satisfied: uvicorn==0.30.1 in /usr/local/lib/python3.12/dist-packages (from -r requirements.txt (line 2)) (0.30.1)\n",
            "Requirement already satisfied: pydantic==2.8.2 in /usr/local/lib/python3.12/dist-packages (from -r requirements.txt (line 3)) (2.8.2)\n",
            "Requirement already satisfied: scikit-learn==1.4.2 in /usr/local/lib/python3.12/dist-packages (from -r requirements.txt (line 4)) (1.4.2)\n",
            "Requirement already satisfied: numpy==1.26.4 in /usr/local/lib/python3.12/dist-packages (from -r requirements.txt (line 5)) (1.26.4)\n",
            "Requirement already satisfied: pandas==2.2.2 in /usr/local/lib/python3.12/dist-packages (from -r requirements.txt (line 6)) (2.2.2)\n",
            "Requirement already satisfied: joblib==1.4.2 in /usr/local/lib/python3.12/dist-packages (from -r requirements.txt (line 7)) (1.4.2)\n",
            "Requirement already satisfied: SQLAlchemy==2.0.30 in /usr/local/lib/python3.12/dist-packages (from -r requirements.txt (line 8)) (2.0.30)\n",
            "Requirement already satisfied: starlette<0.38.0,>=0.37.2 in /usr/local/lib/python3.12/dist-packages (from fastapi==0.111.0->-r requirements.txt (line 1)) (0.37.2)\n",
            "Requirement already satisfied: typing-extensions>=4.8.0 in /usr/local/lib/python3.12/dist-packages (from fastapi==0.111.0->-r requirements.txt (line 1)) (4.15.0)\n",
            "Requirement already satisfied: fastapi-cli>=0.0.2 in /usr/local/lib/python3.12/dist-packages (from fastapi==0.111.0->-r requirements.txt (line 1)) (0.0.11)\n",
            "Requirement already satisfied: httpx>=0.23.0 in /usr/local/lib/python3.12/dist-packages (from fastapi==0.111.0->-r requirements.txt (line 1)) (0.28.1)\n",
            "Requirement already satisfied: jinja2>=2.11.2 in /usr/local/lib/python3.12/dist-packages (from fastapi==0.111.0->-r requirements.txt (line 1)) (3.1.6)\n",
            "Requirement already satisfied: python-multipart>=0.0.7 in /usr/local/lib/python3.12/dist-packages (from fastapi==0.111.0->-r requirements.txt (line 1)) (0.0.20)\n",
            "Requirement already satisfied: ujson!=4.0.2,!=4.1.0,!=4.2.0,!=4.3.0,!=5.0.0,!=5.1.0,>=4.0.1 in /usr/local/lib/python3.12/dist-packages (from fastapi==0.111.0->-r requirements.txt (line 1)) (5.11.0)\n",
            "Requirement already satisfied: orjson>=3.2.1 in /usr/local/lib/python3.12/dist-packages (from fastapi==0.111.0->-r requirements.txt (line 1)) (3.11.3)\n",
            "Requirement already satisfied: email_validator>=2.0.0 in /usr/local/lib/python3.12/dist-packages (from fastapi==0.111.0->-r requirements.txt (line 1)) (2.3.0)\n",
            "Requirement already satisfied: click>=7.0 in /usr/local/lib/python3.12/dist-packages (from uvicorn==0.30.1->-r requirements.txt (line 2)) (8.2.1)\n",
            "Requirement already satisfied: h11>=0.8 in /usr/local/lib/python3.12/dist-packages (from uvicorn==0.30.1->-r requirements.txt (line 2)) (0.16.0)\n",
            "Requirement already satisfied: annotated-types>=0.4.0 in /usr/local/lib/python3.12/dist-packages (from pydantic==2.8.2->-r requirements.txt (line 3)) (0.7.0)\n",
            "Requirement already satisfied: pydantic-core==2.20.1 in /usr/local/lib/python3.12/dist-packages (from pydantic==2.8.2->-r requirements.txt (line 3)) (2.20.1)\n",
            "Requirement already satisfied: scipy>=1.6.0 in /usr/local/lib/python3.12/dist-packages (from scikit-learn==1.4.2->-r requirements.txt (line 4)) (1.16.1)\n",
            "Requirement already satisfied: threadpoolctl>=2.0.0 in /usr/local/lib/python3.12/dist-packages (from scikit-learn==1.4.2->-r requirements.txt (line 4)) (3.6.0)\n",
            "Requirement already satisfied: python-dateutil>=2.8.2 in /usr/local/lib/python3.12/dist-packages (from pandas==2.2.2->-r requirements.txt (line 6)) (2.9.0.post0)\n",
            "Requirement already satisfied: pytz>=2020.1 in /usr/local/lib/python3.12/dist-packages (from pandas==2.2.2->-r requirements.txt (line 6)) (2025.2)\n",
            "Requirement already satisfied: tzdata>=2022.7 in /usr/local/lib/python3.12/dist-packages (from pandas==2.2.2->-r requirements.txt (line 6)) (2025.2)\n",
            "Requirement already satisfied: greenlet!=0.4.17 in /usr/local/lib/python3.12/dist-packages (from SQLAlchemy==2.0.30->-r requirements.txt (line 8)) (3.2.4)\n",
            "Requirement already satisfied: dnspython>=2.0.0 in /usr/local/lib/python3.12/dist-packages (from email_validator>=2.0.0->fastapi==0.111.0->-r requirements.txt (line 1)) (2.8.0)\n",
            "Requirement already satisfied: idna>=2.0.0 in /usr/local/lib/python3.12/dist-packages (from email_validator>=2.0.0->fastapi==0.111.0->-r requirements.txt (line 1)) (3.10)\n",
            "Requirement already satisfied: typer>=0.15.1 in /usr/local/lib/python3.12/dist-packages (from fastapi-cli>=0.0.2->fastapi==0.111.0->-r requirements.txt (line 1)) (0.17.3)\n",
            "Requirement already satisfied: rich-toolkit>=0.14.8 in /usr/local/lib/python3.12/dist-packages (from fastapi-cli>=0.0.2->fastapi==0.111.0->-r requirements.txt (line 1)) (0.15.1)\n",
            "Requirement already satisfied: anyio in /usr/local/lib/python3.12/dist-packages (from httpx>=0.23.0->fastapi==0.111.0->-r requirements.txt (line 1)) (4.10.0)\n",
            "Requirement already satisfied: certifi in /usr/local/lib/python3.12/dist-packages (from httpx>=0.23.0->fastapi==0.111.0->-r requirements.txt (line 1)) (2025.8.3)\n",
            "Requirement already satisfied: httpcore==1.* in /usr/local/lib/python3.12/dist-packages (from httpx>=0.23.0->fastapi==0.111.0->-r requirements.txt (line 1)) (1.0.9)\n",
            "Requirement already satisfied: MarkupSafe>=2.0 in /usr/local/lib/python3.12/dist-packages (from jinja2>=2.11.2->fastapi==0.111.0->-r requirements.txt (line 1)) (3.0.2)\n",
            "Requirement already satisfied: six>=1.5 in /usr/local/lib/python3.12/dist-packages (from python-dateutil>=2.8.2->pandas==2.2.2->-r requirements.txt (line 6)) (1.17.0)\n",
            "Requirement already satisfied: httptools>=0.5.0 in /usr/local/lib/python3.12/dist-packages (from uvicorn[standard]>=0.12.0->fastapi==0.111.0->-r requirements.txt (line 1)) (0.6.4)\n",
            "Requirement already satisfied: python-dotenv>=0.13 in /usr/local/lib/python3.12/dist-packages (from uvicorn[standard]>=0.12.0->fastapi==0.111.0->-r requirements.txt (line 1)) (1.1.1)\n",
            "Requirement already satisfied: pyyaml>=5.1 in /usr/local/lib/python3.12/dist-packages (from uvicorn[standard]>=0.12.0->fastapi==0.111.0->-r requirements.txt (line 1)) (6.0.2)\n",
            "Requirement already satisfied: uvloop!=0.15.0,!=0.15.1,>=0.14.0 in /usr/local/lib/python3.12/dist-packages (from uvicorn[standard]>=0.12.0->fastapi==0.111.0->-r requirements.txt (line 1)) (0.21.0)\n",
            "Requirement already satisfied: watchfiles>=0.13 in /usr/local/lib/python3.12/dist-packages (from uvicorn[standard]>=0.12.0->fastapi==0.111.0->-r requirements.txt (line 1)) (1.1.0)\n",
            "Requirement already satisfied: websockets>=10.4 in /usr/local/lib/python3.12/dist-packages (from uvicorn[standard]>=0.12.0->fastapi==0.111.0->-r requirements.txt (line 1)) (15.0.1)\n",
            "Requirement already satisfied: sniffio>=1.1 in /usr/local/lib/python3.12/dist-packages (from anyio->httpx>=0.23.0->fastapi==0.111.0->-r requirements.txt (line 1)) (1.3.1)\n",
            "Requirement already satisfied: rich>=13.7.1 in /usr/local/lib/python3.12/dist-packages (from rich-toolkit>=0.14.8->fastapi-cli>=0.0.2->fastapi==0.111.0->-r requirements.txt (line 1)) (13.9.4)\n",
            "Requirement already satisfied: shellingham>=1.3.0 in /usr/local/lib/python3.12/dist-packages (from typer>=0.15.1->fastapi-cli>=0.0.2->fastapi==0.111.0->-r requirements.txt (line 1)) (1.5.4)\n",
            "Requirement already satisfied: markdown-it-py>=2.2.0 in /usr/local/lib/python3.12/dist-packages (from rich>=13.7.1->rich-toolkit>=0.14.8->fastapi-cli>=0.0.2->fastapi==0.111.0->-r requirements.txt (line 1)) (4.0.0)\n",
            "Requirement already satisfied: pygments<3.0.0,>=2.13.0 in /usr/local/lib/python3.12/dist-packages (from rich>=13.7.1->rich-toolkit>=0.14.8->fastapi-cli>=0.0.2->fastapi==0.111.0->-r requirements.txt (line 1)) (2.19.2)\n",
            "Requirement already satisfied: mdurl~=0.1 in /usr/local/lib/python3.12/dist-packages (from markdown-it-py>=2.2.0->rich>=13.7.1->rich-toolkit>=0.14.8->fastapi-cli>=0.0.2->fastapi==0.111.0->-r requirements.txt (line 1)) (0.1.2)\n"
          ]
        }
      ],
      "source": [
        "# instalar las dependencias necesarias del proyecto desde requirements.txt\n",
        "!pip install -r requirements.txt\n"
      ]
    },
    {
      "cell_type": "code",
      "execution_count": null,
      "metadata": {
        "colab": {
          "base_uri": "https://localhost:8080/"
        },
        "id": "zEI8REGPiZve",
        "outputId": "7eb6621f-4433-490c-a269-0e338bbe2c3f"
      },
      "outputs": [
        {
          "name": "stdout",
          "output_type": "stream",
          "text": [
            "/usr/local/lib/python3.12/dist-packages/sklearn/metrics/_regression.py:483: FutureWarning: 'squared' is deprecated in version 1.4 and will be removed in 1.6. To calculate the root mean squared error, use the function'root_mean_squared_error'.\n",
            "  warnings.warn(\n",
            "Saved: /content/drive/MyDrive/Pedro Yanez - neutral-farming-om/model/artifacts/model.joblib\n",
            "Metrics: {\n",
            "  \"mae\": 0.13336367648681424,\n",
            "  \"rmse\": 0.14653228960860765,\n",
            "  \"r2\": 0.9561801798001207,\n",
            "  \"n_train\": 8,\n",
            "  \"n_val\": 2\n",
            "}\n"
          ]
        }
      ],
      "source": [
        "# ejecutar el script de entrenamiento para crear el modelo y guardar métricas en model/artifacts\n",
        "!python src/train_model.py\n"
      ]
    },
    {
      "cell_type": "code",
      "execution_count": null,
      "metadata": {
        "colab": {
          "base_uri": "https://localhost:8080/"
        },
        "id": "aqgHbaV2i4rA",
        "outputId": "68526b67-dcc0-4974-884c-ce64db863e32"
      },
      "outputs": [
        {
          "data": {
            "text/plain": [
              "{'mae': 0.13336367648681424,\n",
              " 'rmse': 0.14653228960860765,\n",
              " 'r2': 0.9561801798001207,\n",
              " 'n_train': 8,\n",
              " 'n_val': 2}"
            ]
          },
          "execution_count": 5,
          "metadata": {},
          "output_type": "execute_result"
        }
      ],
      "source": [
        "# abrir y mostrar las métricas de validación guardadas en model/artifacts/metrics.json\n",
        "import json\n",
        "\n",
        "with open(\"model/artifacts/metrics.json\", \"r\") as f:\n",
        "    metrics = json.load(f)\n",
        "\n",
        "metrics\n"
      ]
    },
    {
      "cell_type": "code",
      "execution_count": null,
      "metadata": {
        "colab": {
          "base_uri": "https://localhost:8080/"
        },
        "id": "-jbf2uuFqAaw",
        "outputId": "64d12420-030b-4080-c15c-5371d97bb8b4"
      },
      "outputs": [
        {
          "name": "stdout",
          "output_type": "stream",
          "text": [
            "Collecting pyngrok\n",
            "  Downloading pyngrok-7.3.0-py3-none-any.whl.metadata (8.1 kB)\n",
            "Requirement already satisfied: PyYAML>=5.1 in /usr/local/lib/python3.12/dist-packages (from pyngrok) (6.0.2)\n",
            "Downloading pyngrok-7.3.0-py3-none-any.whl (25 kB)\n",
            "Installing collected packages: pyngrok\n",
            "Successfully installed pyngrok-7.3.0\n"
          ]
        }
      ],
      "source": [
        "# instalar pyngrok para exponer la API de FastAPI al exterior con un link público\n",
        "!pip install pyngrok\n"
      ]
    },
    {
      "cell_type": "code",
      "execution_count": null,
      "metadata": {
        "id": "p-BCYTnzri7k"
      },
      "outputs": [],
      "source": [
        "\n"
      ]
    },
    {
      "cell_type": "code",
      "execution_count": null,
      "metadata": {
        "colab": {
          "base_uri": "https://localhost:8080/"
        },
        "id": "AFVWaWGsuAPe",
        "outputId": "2dde3230-2647-426a-f2e5-863131795f68"
      },
      "outputs": [
        {
          "name": "stdout",
          "output_type": "stream",
          "text": [
            "Selecting previously unselected package cloudflared.\n",
            "(Reading database ... 126374 files and directories currently installed.)\n",
            "Preparing to unpack cloudflared-linux-amd64.deb ...\n",
            "Unpacking cloudflared (2025.8.1) ...\n",
            "Setting up cloudflared (2025.8.1) ...\n",
            "Processing triggers for man-db (2.10.2-1) ...\n",
            "\u001b[90m2025-09-12T19:56:18Z\u001b[0m \u001b[32mINF\u001b[0m Thank you for trying Cloudflare Tunnel. Doing so, without a Cloudflare account, is a quick way to experiment and try it out. However, be aware that these account-less Tunnels have no uptime guarantee, are subject to the Cloudflare Online Services Terms of Use (https://www.cloudflare.com/website-terms/), and Cloudflare reserves the right to investigate your use of Tunnels for violations of such terms. If you intend to use Tunnels in production you should use a pre-created named tunnel by following: https://developers.cloudflare.com/cloudflare-one/connections/connect-apps\n",
            "\u001b[90m2025-09-12T19:56:18Z\u001b[0m \u001b[32mINF\u001b[0m Requesting new quick Tunnel on trycloudflare.com...\n",
            "\u001b[32mINFO\u001b[0m:     Started server process [\u001b[36m17642\u001b[0m]\n",
            "\u001b[32mINFO\u001b[0m:     Waiting for application startup.\n",
            "\u001b[32mINFO\u001b[0m:     Application startup complete.\n",
            "\u001b[32mINFO\u001b[0m:     Uvicorn running on \u001b[1mhttp://0.0.0.0:8000\u001b[0m (Press CTRL+C to quit)\n",
            "\u001b[90m2025-09-12T19:56:25Z\u001b[0m \u001b[32mINF\u001b[0m +--------------------------------------------------------------------------------------------+\n",
            "\u001b[90m2025-09-12T19:56:25Z\u001b[0m \u001b[32mINF\u001b[0m |  Your quick Tunnel has been created! Visit it at (it may take some time to be reachable):  |\n",
            "\u001b[90m2025-09-12T19:56:25Z\u001b[0m \u001b[32mINF\u001b[0m |  https://richardson-league-seek-weight.trycloudflare.com                                   |\n",
            "\u001b[90m2025-09-12T19:56:25Z\u001b[0m \u001b[32mINF\u001b[0m +--------------------------------------------------------------------------------------------+\n",
            "\u001b[90m2025-09-12T19:56:25Z\u001b[0m \u001b[32mINF\u001b[0m Cannot determine default configuration path. No file [config.yml config.yaml] in [~/.cloudflared ~/.cloudflare-warp ~/cloudflare-warp /etc/cloudflared /usr/local/etc/cloudflared]\n",
            "\u001b[90m2025-09-12T19:56:25Z\u001b[0m \u001b[32mINF\u001b[0m Version 2025.8.1 (Checksum a66353004197ee4c1fcb68549203824882bba62378ad4d00d234bdb8251f1114)\n",
            "\u001b[90m2025-09-12T19:56:25Z\u001b[0m \u001b[32mINF\u001b[0m GOOS: linux, GOVersion: go1.24.4, GoArch: amd64\n",
            "\u001b[90m2025-09-12T19:56:25Z\u001b[0m \u001b[32mINF\u001b[0m Settings: map[ha-connections:1 protocol:quic url:http://localhost:8000]\n",
            "\u001b[90m2025-09-12T19:56:25Z\u001b[0m \u001b[32mINF\u001b[0m cloudflared will not automatically update if installed by a package manager.\n",
            "\u001b[90m2025-09-12T19:56:25Z\u001b[0m \u001b[32mINF\u001b[0m Generated Connector ID: d70e970b-9e39-42d0-baa4-c1c4ff8f9bba\n",
            "\u001b[90m2025-09-12T19:56:25Z\u001b[0m \u001b[32mINF\u001b[0m Initial protocol quic\n",
            "\u001b[90m2025-09-12T19:56:25Z\u001b[0m \u001b[32mINF\u001b[0m ICMP proxy will use 172.28.0.12 as source for IPv4\n",
            "\u001b[90m2025-09-12T19:56:25Z\u001b[0m \u001b[32mINF\u001b[0m ICMP proxy will use :: as source for IPv6\n",
            "\u001b[90m2025-09-12T19:56:25Z\u001b[0m \u001b[1m\u001b[31mERR\u001b[0m\u001b[0m Cannot determine default origin certificate path. No file cert.pem in [~/.cloudflared ~/.cloudflare-warp ~/cloudflare-warp /etc/cloudflared /usr/local/etc/cloudflared]. You need to specify the origin certificate path by specifying the origincert option in the configuration file, or set TUNNEL_ORIGIN_CERT environment variable \u001b[36moriginCertPath=\u001b[0m\n",
            "\u001b[90m2025-09-12T19:56:25Z\u001b[0m \u001b[32mINF\u001b[0m ICMP proxy will use 172.28.0.12 as source for IPv4\n",
            "\u001b[90m2025-09-12T19:56:25Z\u001b[0m \u001b[32mINF\u001b[0m ICMP proxy will use :: as source for IPv6\n",
            "\u001b[90m2025-09-12T19:56:25Z\u001b[0m \u001b[32mINF\u001b[0m Starting metrics server on 127.0.0.1:20241/metrics\n",
            "\u001b[90m2025-09-12T19:56:25Z\u001b[0m \u001b[32mINF\u001b[0m Tunnel connection curve preferences: [X25519MLKEM768 CurveP256] \u001b[36mconnIndex=\u001b[0m0 \u001b[36mevent=\u001b[0m0 \u001b[36mip=\u001b[0m198.41.192.27\n",
            "2025/09/12 19:56:25 failed to sufficiently increase receive buffer size (was: 208 kiB, wanted: 7168 kiB, got: 416 kiB). See https://github.com/quic-go/quic-go/wiki/UDP-Buffer-Sizes for details.\n",
            "\u001b[90m2025-09-12T19:56:26Z\u001b[0m \u001b[32mINF\u001b[0m Registered tunnel connection \u001b[36mconnIndex=\u001b[0m0 \u001b[36mconnection=\u001b[0m0499bf7a-23cf-4c80-b656-3098098b4905 \u001b[36mevent=\u001b[0m0 \u001b[36mip=\u001b[0m198.41.192.27 \u001b[36mlocation=\u001b[0mhkg09 \u001b[36mprotocol=\u001b[0mquic\n",
            "\u001b[32mINFO\u001b[0m:     191.125.150.193:0 - \"\u001b[1mGET /docs HTTP/1.1\u001b[0m\" \u001b[32m200 OK\u001b[0m\n",
            "\u001b[32mINFO\u001b[0m:     191.125.150.193:0 - \"\u001b[1mGET /openapi.json HTTP/1.1\u001b[0m\" \u001b[32m200 OK\u001b[0m\n",
            "\u001b[32mINFO\u001b[0m:     191.125.150.193:0 - \"\u001b[1mPOST /predict HTTP/1.1\u001b[0m\" \u001b[31m400 Bad Request\u001b[0m\n",
            "\u001b[32mINFO\u001b[0m:     191.125.150.193:0 - \"\u001b[1mPOST /predict HTTP/1.1\u001b[0m\" \u001b[31m422 Unprocessable Entity\u001b[0m\n",
            "\u001b[32mINFO\u001b[0m:     191.125.150.193:0 - \"\u001b[1mPOST /predict HTTP/1.1\u001b[0m\" \u001b[31m400 Bad Request\u001b[0m\n",
            "\u001b[90m2025-09-12T20:06:56Z\u001b[0m \u001b[32mINF\u001b[0m Initiating graceful shutdown due to signal interrupt ...\n",
            "\u001b[32mINFO\u001b[0m:     Shutting down\n",
            "\u001b[32mINFO\u001b[0m:     Waiting for application shutdown.\n",
            "\u001b[32mINFO\u001b[0m:     Application shutdown complete.\n",
            "\u001b[32mINFO\u001b[0m:     Finished server process [\u001b[36m17642\u001b[0m]\n",
            "\u001b[90m2025-09-12T20:06:57Z\u001b[0m \u001b[1m\u001b[31mERR\u001b[0m\u001b[0m failed to run the datagram handler \u001b[31merror=\u001b[0m\u001b[31m\"context canceled\"\u001b[0m \u001b[36mconnIndex=\u001b[0m0 \u001b[36mevent=\u001b[0m0 \u001b[36mip=\u001b[0m198.41.192.27\n",
            "\u001b[90m2025-09-12T20:06:57Z\u001b[0m \u001b[1m\u001b[31mERR\u001b[0m\u001b[0m failed to serve tunnel connection \u001b[31merror=\u001b[0m\u001b[31m\"accept stream listener encountered a failure while serving\"\u001b[0m \u001b[36mconnIndex=\u001b[0m0 \u001b[36mevent=\u001b[0m0 \u001b[36mip=\u001b[0m198.41.192.27\n",
            "\u001b[90m2025-09-12T20:06:57Z\u001b[0m \u001b[1m\u001b[31mERR\u001b[0m\u001b[0m Serve tunnel error \u001b[31merror=\u001b[0m\u001b[31m\"accept stream listener encountered a failure while serving\"\u001b[0m \u001b[36mconnIndex=\u001b[0m0 \u001b[36mevent=\u001b[0m0 \u001b[36mip=\u001b[0m198.41.192.27\n",
            "\u001b[90m2025-09-12T20:06:57Z\u001b[0m \u001b[32mINF\u001b[0m Retrying connection in up to 1s \u001b[36mconnIndex=\u001b[0m0 \u001b[36mevent=\u001b[0m0 \u001b[36mip=\u001b[0m198.41.192.27\n",
            "\u001b[90m2025-09-12T20:06:57Z\u001b[0m \u001b[1m\u001b[31mERR\u001b[0m\u001b[0m Connection terminated \u001b[36mconnIndex=\u001b[0m0\n",
            "\u001b[90m2025-09-12T20:06:57Z\u001b[0m \u001b[1m\u001b[31mERR\u001b[0m\u001b[0m no more connections active and exiting\n",
            "\u001b[90m2025-09-12T20:06:57Z\u001b[0m \u001b[32mINF\u001b[0m Tunnel server stopped\n",
            "\u001b[90m2025-09-12T20:06:57Z\u001b[0m \u001b[32mINF\u001b[0m Metrics server stopped\n"
          ]
        }
      ],
      "source": [
        "# instalar cloudflared oficial\n",
        "!wget -q https://github.com/cloudflare/cloudflared/releases/latest/download/cloudflared-linux-amd64.deb && dpkg -i cloudflared-linux-amd64.deb\n",
        "!uvicorn src.api:app --host 0.0.0.0 --port 8000 & cloudflared tunnel --url http://localhost:8000\n"
      ]
    },
    {
      "cell_type": "code",
      "execution_count": null,
      "metadata": {
        "colab": {
          "background_save": true,
          "base_uri": "https://localhost:8080/"
        },
        "id": "k_5Sy-ySwxxU",
        "outputId": "f7dbad3f-fa28-4d2b-b2f4-b2f92635f318"
      },
      "outputs": [
        {
          "name": "stdout",
          "output_type": "stream",
          "text": [
            "\u001b[90m2025-09-12T20:08:41Z\u001b[0m \u001b[32mINF\u001b[0m Thank you for trying Cloudflare Tunnel. Doing so, without a Cloudflare account, is a quick way to experiment and try it out. However, be aware that these account-less Tunnels have no uptime guarantee, are subject to the Cloudflare Online Services Terms of Use (https://www.cloudflare.com/website-terms/), and Cloudflare reserves the right to investigate your use of Tunnels for violations of such terms. If you intend to use Tunnels in production you should use a pre-created named tunnel by following: https://developers.cloudflare.com/cloudflare-one/connections/connect-apps\n",
            "\u001b[90m2025-09-12T20:08:41Z\u001b[0m \u001b[32mINF\u001b[0m Requesting new quick Tunnel on trycloudflare.com...\n",
            "\u001b[32mINFO\u001b[0m:     Started server process [\u001b[36m20655\u001b[0m]\n",
            "\u001b[32mINFO\u001b[0m:     Waiting for application startup.\n",
            "\u001b[32mINFO\u001b[0m:     Application startup complete.\n",
            "\u001b[32mINFO\u001b[0m:     Uvicorn running on \u001b[1mhttp://0.0.0.0:8000\u001b[0m (Press CTRL+C to quit)\n",
            "\u001b[90m2025-09-12T20:08:51Z\u001b[0m \u001b[32mINF\u001b[0m +--------------------------------------------------------------------------------------------+\n",
            "\u001b[90m2025-09-12T20:08:51Z\u001b[0m \u001b[32mINF\u001b[0m |  Your quick Tunnel has been created! Visit it at (it may take some time to be reachable):  |\n",
            "\u001b[90m2025-09-12T20:08:51Z\u001b[0m \u001b[32mINF\u001b[0m |  https://pmc-tracks-aged-locations.trycloudflare.com                                       |\n",
            "\u001b[90m2025-09-12T20:08:51Z\u001b[0m \u001b[32mINF\u001b[0m +--------------------------------------------------------------------------------------------+\n",
            "\u001b[90m2025-09-12T20:08:51Z\u001b[0m \u001b[32mINF\u001b[0m Cannot determine default configuration path. No file [config.yml config.yaml] in [~/.cloudflared ~/.cloudflare-warp ~/cloudflare-warp /etc/cloudflared /usr/local/etc/cloudflared]\n",
            "\u001b[90m2025-09-12T20:08:51Z\u001b[0m \u001b[32mINF\u001b[0m Version 2025.8.1 (Checksum a66353004197ee4c1fcb68549203824882bba62378ad4d00d234bdb8251f1114)\n",
            "\u001b[90m2025-09-12T20:08:51Z\u001b[0m \u001b[32mINF\u001b[0m GOOS: linux, GOVersion: go1.24.4, GoArch: amd64\n",
            "\u001b[90m2025-09-12T20:08:51Z\u001b[0m \u001b[32mINF\u001b[0m Settings: map[ha-connections:1 protocol:quic url:http://localhost:8000]\n",
            "\u001b[90m2025-09-12T20:08:51Z\u001b[0m \u001b[32mINF\u001b[0m cloudflared will not automatically update if installed by a package manager.\n",
            "\u001b[90m2025-09-12T20:08:51Z\u001b[0m \u001b[32mINF\u001b[0m Generated Connector ID: 7ae2f15a-1dc8-4dbe-9c65-d94d53b5197b\n",
            "\u001b[90m2025-09-12T20:08:51Z\u001b[0m \u001b[32mINF\u001b[0m Initial protocol quic\n",
            "\u001b[90m2025-09-12T20:08:51Z\u001b[0m \u001b[32mINF\u001b[0m ICMP proxy will use 172.28.0.12 as source for IPv4\n",
            "\u001b[90m2025-09-12T20:08:51Z\u001b[0m \u001b[32mINF\u001b[0m ICMP proxy will use :: as source for IPv6\n",
            "\u001b[90m2025-09-12T20:08:51Z\u001b[0m \u001b[1m\u001b[31mERR\u001b[0m\u001b[0m Cannot determine default origin certificate path. No file cert.pem in [~/.cloudflared ~/.cloudflare-warp ~/cloudflare-warp /etc/cloudflared /usr/local/etc/cloudflared]. You need to specify the origin certificate path by specifying the origincert option in the configuration file, or set TUNNEL_ORIGIN_CERT environment variable \u001b[36moriginCertPath=\u001b[0m\n",
            "\u001b[90m2025-09-12T20:08:51Z\u001b[0m \u001b[32mINF\u001b[0m ICMP proxy will use 172.28.0.12 as source for IPv4\n",
            "\u001b[90m2025-09-12T20:08:51Z\u001b[0m \u001b[32mINF\u001b[0m ICMP proxy will use :: as source for IPv6\n",
            "\u001b[90m2025-09-12T20:08:51Z\u001b[0m \u001b[32mINF\u001b[0m Starting metrics server on 127.0.0.1:20241/metrics\n",
            "\u001b[90m2025-09-12T20:08:51Z\u001b[0m \u001b[32mINF\u001b[0m Tunnel connection curve preferences: [X25519MLKEM768 CurveP256] \u001b[36mconnIndex=\u001b[0m0 \u001b[36mevent=\u001b[0m0 \u001b[36mip=\u001b[0m198.41.192.227\n",
            "2025/09/12 20:08:51 failed to sufficiently increase receive buffer size (was: 208 kiB, wanted: 7168 kiB, got: 416 kiB). See https://github.com/quic-go/quic-go/wiki/UDP-Buffer-Sizes for details.\n",
            "\u001b[90m2025-09-12T20:08:52Z\u001b[0m \u001b[32mINF\u001b[0m Registered tunnel connection \u001b[36mconnIndex=\u001b[0m0 \u001b[36mconnection=\u001b[0md69c1b48-30b8-442d-a7ed-b2bb36f3c0e0 \u001b[36mevent=\u001b[0m0 \u001b[36mip=\u001b[0m198.41.192.227 \u001b[36mlocation=\u001b[0mhkg09 \u001b[36mprotocol=\u001b[0mquic\n",
            "\u001b[32mINFO\u001b[0m:     191.125.47.25:0 - \"\u001b[1mGET / HTTP/1.1\u001b[0m\" \u001b[31m404 Not Found\u001b[0m\n",
            "\u001b[32mINFO\u001b[0m:     191.125.47.25:0 - \"\u001b[1mGET /favicon.ico HTTP/1.1\u001b[0m\" \u001b[31m404 Not Found\u001b[0m\n",
            "\u001b[32mINFO\u001b[0m:     191.125.47.25:0 - \"\u001b[1mGET /docs HTTP/1.1\u001b[0m\" \u001b[32m200 OK\u001b[0m\n",
            "\u001b[32mINFO\u001b[0m:     191.125.47.25:0 - \"\u001b[1mGET /openapi.json HTTP/1.1\u001b[0m\" \u001b[32m200 OK\u001b[0m\n",
            "\u001b[32mINFO\u001b[0m:     191.125.47.25:0 - \"\u001b[1mPOST /predict HTTP/1.1\u001b[0m\" \u001b[32m200 OK\u001b[0m\n",
            "\u001b[32mINFO\u001b[0m:     186.175.204.230:0 - \"\u001b[1mGET /docs HTTP/1.1\u001b[0m\" \u001b[32m200 OK\u001b[0m\n",
            "\u001b[32mINFO\u001b[0m:     186.175.204.230:0 - \"\u001b[1mGET /openapi.json HTTP/1.1\u001b[0m\" \u001b[32m200 OK\u001b[0m\n",
            "\u001b[32mINFO\u001b[0m:     186.175.204.230:0 - \"\u001b[1mPOST /predict HTTP/1.1\u001b[0m\" \u001b[32m200 OK\u001b[0m\n",
            "\u001b[32mINFO\u001b[0m:     186.175.204.230:0 - \"\u001b[1mGET /docs HTTP/1.1\u001b[0m\" \u001b[32m200 OK\u001b[0m\n",
            "\u001b[32mINFO\u001b[0m:     186.175.204.230:0 - \"\u001b[1mGET /openapi.json HTTP/1.1\u001b[0m\" \u001b[32m200 OK\u001b[0m\n",
            "\u001b[32mINFO\u001b[0m:     186.174.201.15:0 - \"\u001b[1mPOST /data_ingestion HTTP/1.1\u001b[0m\" \u001b[32m200 OK\u001b[0m\n"
          ]
        }
      ],
      "source": [
        "# exponer la API en un link público sin password\n",
        "!uvicorn src.api:app --host 0.0.0.0 --port 8000 & cloudflared tunnel --url http://localhost:8000"
      ]
    },
    {
      "cell_type": "code",
      "execution_count": null,
      "metadata": {
        "id": "4egLqDF66Oyf"
      },
      "outputs": [],
      "source": [
        "#Ir a post predict try out y e indicar\n",
        "# Link de ejemplo: https://pmc-tracks-aged-locations.trycloudflare.com/docs\n",
        "\n",
        "{\n",
        "  \"pH\": 6.7,\n",
        "  \"EC\": 0.25,\n",
        "  \"Total_Nitrogen\": 0.12,\n",
        "  \"Moisture\": 28\n",
        "}\n"
      ]
    },
    {
      "cell_type": "code",
      "execution_count": null,
      "metadata": {
        "colab": {
          "base_uri": "https://localhost:8080/"
        },
        "id": "HSJoQBQqwjOH",
        "outputId": "6e38a427-389d-45dc-8e9a-179725934136"
      },
      "outputs": [
        {
          "name": "stdout",
          "output_type": "stream",
          "text": [
            "api.py actualizado 🎯\n"
          ]
        }
      ],
      "source": [
        "# endpoint /predict para construir un DataFrame con los nombres EXACTOS de entrenamiento\n",
        "from pathlib import Path\n",
        "\n",
        "api_code = \"\"\"\n",
        "from __future__ import annotations\n",
        "from fastapi import FastAPI, Depends, HTTPException\n",
        "from sqlalchemy.orm import Session\n",
        "from .db import Base, engine, SessionLocal\n",
        "from .models import SoilRecord\n",
        "from .schema import IngestPayload, PredictPayload, PredictResponse\n",
        "from .utils import get_model\n",
        "\n",
        "Base.metadata.create_all(bind=engine)\n",
        "app = FastAPI(title=\"Neutral Farming OM API\", version=\"0.1.0\")\n",
        "\n",
        "def get_db():\n",
        "    db = SessionLocal()\n",
        "    try:\n",
        "        yield db\n",
        "    finally:\n",
        "        db.close()\n",
        "\n",
        "@app.post('/data_ingestion')\n",
        "def data_ingestion(payload: IngestPayload, db: Session = Depends(get_db)):\n",
        "    record = SoilRecord(\n",
        "        pH=payload.pH,\n",
        "        EC=payload.EC,\n",
        "        total_nitrogen=payload.Total_Nitrogen,\n",
        "        moisture=payload.Moisture,\n",
        "        organic_matter=payload.Organic_Matter,\n",
        "    )\n",
        "    db.add(record)\n",
        "    db.commit()\n",
        "    db.refresh(record)\n",
        "    return {'id': record.id}\n",
        "\n",
        "@app.post('/predict', response_model=PredictResponse)\n",
        "def predict(payload: PredictPayload):\n",
        "    import pandas as pd\n",
        "    model = get_model()\n",
        "    # construir DataFrame con los mismos nombres de columnas usados al entrenar\n",
        "    X = pd.DataFrame([{\n",
        "        'pH': payload.pH,\n",
        "        'EC': payload.EC,\n",
        "        'Total Nitrogen': payload.Total_Nitrogen,  # OJO: espacio como en el CSV\n",
        "        'Moisture': payload.Moisture\n",
        "    }])\n",
        "    try:\n",
        "        pred = float(model.predict(X)[0])\n",
        "    except Exception as e:\n",
        "        raise HTTPException(status_code=400, detail=f'Prediction failed: {e}')\n",
        "    return PredictResponse(predicted_organic_matter=round(pred, 4))\n",
        "\"\"\"\n",
        "Path(\"src/api.py\").write_text(api_code)\n",
        "print(\"api.py actualizado 🎯\")\n"
      ]
    },
    {
      "cell_type": "code",
      "execution_count": null,
      "metadata": {
        "id": "5Hj5YDuu7Uoc"
      },
      "outputs": [],
      "source": [
        "# Prueba de data ingestion\n",
        "# Ir al link de ejemplo https://pmc-tracks-aged-locations.trycloudflare.com/docs\n",
        "# Ir a POST /data_ingestion, try out, y usar el siguiente json de ejemplo\n",
        "\n",
        "{\n",
        "  \"pH\": 6.9,\n",
        "  \"EC\": 0.28,\n",
        "  \"Total_Nitrogen\": 0.14,\n",
        "  \"Moisture\": 29,\n",
        "  \"Organic_Matter\": 4.1\n",
        "}\n"
      ]
    },
    {
      "cell_type": "code",
      "execution_count": null,
      "metadata": {
        "id": "xH4dJQVCCro3"
      },
      "outputs": [],
      "source": [
        "# Configurar identidad de GitHub\n",
        "!git config --global user.email \"pedroeyanezmel531@gmail.com\"\n",
        "!git config --global user.name \"p1y1m\"\n",
        "\n",
        "# Entrar a la carpeta del proyecto en Google Drive\n",
        "%cd /content/drive/MyDrive/neutral-farming-om\n",
        "\n",
        "# Inicializar git en la carpeta del proyecto\n",
        "!git init\n",
        "\n",
        "# Conectar el repositorio remoto de GitHub\n",
        "!git remote add origin https://github.com/p1y1m/Codes.git\n",
        "\n",
        "# Agregar todos los archivos del proyecto al versionamiento\n",
        "!git add .\n",
        "\n",
        "# Hacer el primer commit con un mensaje descriptivo\n",
        "!git commit -m \"Initial commit - Neutral Farming project\"\n",
        "\n",
        "# Cambiar el nombre de la rama a main\n",
        "!git branch -M main\n",
        "\n",
        "# Subir el proyecto a GitHub en la rama main\n",
        "!git push -u origin main\n",
        "\n"
      ]
    }
  ],
  "metadata": {
    "colab": {
      "provenance": []
    },
    "kernelspec": {
      "display_name": "Python 3",
      "name": "python3"
    },
    "language_info": {
      "name": "python"
    }
  },
  "nbformat": 4,
  "nbformat_minor": 0
}