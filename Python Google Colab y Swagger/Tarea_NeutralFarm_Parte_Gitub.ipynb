{
  "nbformat": 4,
  "nbformat_minor": 0,
  "metadata": {
    "colab": {
      "provenance": []
    },
    "kernelspec": {
      "name": "python3",
      "display_name": "Python 3"
    },
    "language_info": {
      "name": "python"
    }
  },
  "cells": [
    {
      "cell_type": "code",
      "execution_count": 1,
      "metadata": {
        "colab": {
          "base_uri": "https://localhost:8080/"
        },
        "id": "Ne30pD6fFsON",
        "outputId": "7d86626b-704e-4d80-a896-9bb32099ac2c"
      },
      "outputs": [
        {
          "output_type": "stream",
          "name": "stdout",
          "text": [
            "Mounted at /content/drive\n"
          ]
        }
      ],
      "source": [
        "# Montar Google Drive para guardar y acceder a los archivos del proyecto\n",
        "from google.colab import drive\n",
        "drive.mount('/content/drive')\n"
      ]
    },
    {
      "cell_type": "code",
      "source": [
        "# Entrar a la carpeta del proyecto en Google Drive\n",
        "%cd \"/content/drive/MyDrive/neutral-farming-om\"\n",
        "\n",
        "# Listar todos los archivos que contiene la carpeta\n",
        "!ls -R\n"
      ],
      "metadata": {
        "colab": {
          "base_uri": "https://localhost:8080/"
        },
        "id": "rzckYicnGLpf",
        "outputId": "ef3cae2d-69e2-4093-c264-6b1c6858f0c5"
      },
      "execution_count": 2,
      "outputs": [
        {
          "output_type": "stream",
          "name": "stdout",
          "text": [
            "[Errno 2] No such file or directory: '/content/drive/MyDrive/neutral-farming-om'\n",
            "/content\n",
            ".:\n",
            "drive  sample_data\n",
            "\n",
            "./drive:\n",
            "MyDrive\n",
            "\n",
            "./drive/MyDrive:\n",
            "'Avance tesis 9 agosto.pptx'\t\t\t prueba0,1.py\n",
            "'Colab Notebooks'\t\t\t\t prueba0,3.py\n",
            " Copia-de-IMG_4918-scaled.jpg\t\t\t prueba0coma6.py\n",
            "'Copia de Propuesta de tesis V8.docx'\t\t prueba10.py\n",
            "'Copia de prueba8coma1.py'\t\t\t prueba11.py\n",
            "'Curriculum Pedro Yañez - Septiembre 2025.pdf'\t prueba12.py\n",
            "'Experimentos y resultados.gdoc'\t\t prueba13.py\n",
            " main.py\t\t\t\t\t prueba14.py\n",
            " myapp-0.1-arm64-v8a_armeabi-v7a-debug.apk\t prueba2.py\n",
            " my.kv\t\t\t\t\t\t prueba3.py\n",
            "'Patrón de anillos circulares.gdoc'\t\t prueba4.py\n",
            "'Pedro Yanez - neutral-farming-om'\t\t prueba5.py\n",
            " programagpt.py\t\t\t\t\t prueba6.py\n",
            "'Propuesta de tesis V10.docx'\t\t\t prueba8coma1.py\n",
            "'Propuesta de tesis V8.docx'\t\t\t pruebainicio.py\n",
            " proyecto_python\t\t\t\t Screencastify\n",
            "\n",
            "'./drive/MyDrive/Colab Notebooks':\n",
            "'Copia de Copia de Pasar main.py a apk, funcionaV3 (1).ipynb'\n",
            "'Copia de Copia de Pasar main.py a apk, funcionaV3.ipynb'\n",
            "'Copia de Pasar main.py a apk, funcionaV3 (1).ipynb'\n",
            "'Copia de Pasar main.py a apk, funcionaV3 (2).ipynb'\n",
            "'Copia de Pasar main.py a apk, funcionaV3.ipynb'\n",
            "'Copia de programagptintento4punto1.ipynb'\n",
            "'helloworldscript (1).ipynb'\n",
            " helloworldscript.ipynb\n",
            " pasar_a_apk_intento4.ipynb\n",
            "'Pasar main.py a apk, funciona.ipynb'\n",
            "'Pasar main.py a apk, funcionaV2.ipynb'\n",
            " preg_resp_intento4_langchain\n",
            " preg_resp_intento5.ipynb\n",
            " preg_resp_v6\n",
            " preg_resp_v6_.ipynb\n",
            " pregunta_respuesta_v2\n",
            " pregunta_resp_uesta_v3\n",
            " pregunta_respuesta_v3\n",
            " programagptintento4.ipynb\n",
            " programagptintento4punto1.ipynb\n",
            " programagpt.ipynb\n",
            " prubea4_apk.ipynb\n",
            " prueba0coma10.ipynb\n",
            " prueba0coma13.ipynb\n",
            " prueba0coma14.ipynb\n",
            " prueba0coma4.ipynb\n",
            " prueba0coma5.ipynb\n",
            " prueba11.ipynb\n",
            " prueba13.ipynb\n",
            " prueba14.ipynb\n",
            " prueba2_apk.ipynb\n",
            " prueba2.ipynb\n",
            " prueba3_apk.ipynb\n",
            " prueba3.ipynb\n",
            " prueba4_apk.ipynb\n",
            " prueba4.ipynb\n",
            " prueba5_apk.ipynb\n",
            " prueba5.ipynb\n",
            " prueba6_apk.ipynb\n",
            " prueba6.ipynb\n",
            "'Tarea_1_deep_learning_Pablo_Silva_Navea_Pedro_Yañez_Melendez (1).ipynb'\n",
            "'Tarea Neutral Farm.ipynb'\n",
            "'Tarea NeutralFarm Parte Gitub.ipynb'\n",
            "'tarea_version_20210930(1).ipynb'\n",
            " Untitled\n",
            " Untitled0.ipynb\n",
            " Untitled1.ipynb\n",
            " Untitled2.ipynb\n",
            " Untitled3.ipynb\n",
            " Untitled4.ipynb\n",
            " Untitled5.ipynb\n",
            " Untitled6.ipynb\n",
            " Untitled7.ipynb\n",
            " Version1_preg_resp\n",
            "\n",
            "'./drive/MyDrive/Pedro Yanez - neutral-farming-om':\n",
            "cloudflared-linux-amd64.deb  model  README.md\t      src\n",
            "data\t\t\t     om.db  requirements.txt\n",
            "\n",
            "'./drive/MyDrive/Pedro Yanez - neutral-farming-om/data':\n",
            "organic_matter_dataset.csv\n",
            "\n",
            "'./drive/MyDrive/Pedro Yanez - neutral-farming-om/model':\n",
            "artifacts\n",
            "\n",
            "'./drive/MyDrive/Pedro Yanez - neutral-farming-om/model/artifacts':\n",
            "metrics.json  model.joblib\n",
            "\n",
            "'./drive/MyDrive/Pedro Yanez - neutral-farming-om/src':\n",
            "api.py\t__init__.py  __pycache__  train_model.py\n",
            "db.py\tmodels.py    schema.py\t  utils.py\n",
            "\n",
            "'./drive/MyDrive/Pedro Yanez - neutral-farming-om/src/__pycache__':\n",
            "api.cpython-312.pyc  __init__.cpython-312.pyc  schema.cpython-312.pyc\n",
            "db.cpython-312.pyc   models.cpython-312.pyc    utils.cpython-312.pyc\n",
            "\n",
            "./drive/MyDrive/proyecto_python:\n",
            " extracto_handbook_of_conflict_resolution.txt\n",
            " handbook-of-conflict-resolution.pdf\n",
            " handbook_of_conflict_resolution.txt\n",
            "'Nonviolent Communication_ A Language of Life_ Life-Changing Tools for Healthy Relationships ( PDFDrive ).pdf'\n",
            "\n",
            "./drive/MyDrive/Screencastify:\n",
            "\n",
            "./sample_data:\n",
            "anscombe.json\t\t      mnist_test.csv\n",
            "california_housing_test.csv   mnist_train_small.csv\n",
            "california_housing_train.csv  README.md\n"
          ]
        }
      ]
    },
    {
      "cell_type": "code",
      "source": [
        "# Configurar identidad de GitHub\n",
        "!git config --global user.email \"pedroeyanezmel531@gmail.com\"\n",
        "!git config --global user.name \"p1y1m\"\n",
        "\n",
        "# Inicializar git en la carpeta del proyecto\n",
        "!git init\n",
        "\n",
        "# Conectar el repositorio remoto de GitHub\n",
        "!git remote add origin https://github.com/p1y1m/Codes.git\n"
      ],
      "metadata": {
        "colab": {
          "base_uri": "https://localhost:8080/"
        },
        "id": "wMbUWrKlGf9X",
        "outputId": "edd5e653-06b9-416a-e404-c71cdc18569e"
      },
      "execution_count": 3,
      "outputs": [
        {
          "output_type": "stream",
          "name": "stdout",
          "text": [
            "\u001b[33mhint: Using 'master' as the name for the initial branch. This default branch name\u001b[m\n",
            "\u001b[33mhint: is subject to change. To configure the initial branch name to use in all\u001b[m\n",
            "\u001b[33mhint: of your new repositories, which will suppress this warning, call:\u001b[m\n",
            "\u001b[33mhint: \u001b[m\n",
            "\u001b[33mhint: \tgit config --global init.defaultBranch <name>\u001b[m\n",
            "\u001b[33mhint: \u001b[m\n",
            "\u001b[33mhint: Names commonly chosen instead of 'master' are 'main', 'trunk' and\u001b[m\n",
            "\u001b[33mhint: 'development'. The just-created branch can be renamed via this command:\u001b[m\n",
            "\u001b[33mhint: \u001b[m\n",
            "\u001b[33mhint: \tgit branch -m <name>\u001b[m\n",
            "Initialized empty Git repository in /content/.git/\n"
          ]
        }
      ]
    },
    {
      "cell_type": "code",
      "source": [
        "# Salir de cualquier repo mal inicializado y limpiarlo\n",
        "%cd /content\n",
        "!rm -rf .git\n"
      ],
      "metadata": {
        "colab": {
          "base_uri": "https://localhost:8080/"
        },
        "id": "TDSiKlX_IcmT",
        "outputId": "560b1e12-5f35-41a3-ea12-7532181fe2e4"
      },
      "execution_count": 5,
      "outputs": [
        {
          "output_type": "stream",
          "name": "stdout",
          "text": [
            "/content\n"
          ]
        }
      ]
    },
    {
      "cell_type": "code",
      "source": [
        "# Entrar a la carpeta del proyecto en Drive\n",
        "%cd \"/content/drive/MyDrive/Pedro Yanez - neutral-farming-om\"\n"
      ],
      "metadata": {
        "colab": {
          "base_uri": "https://localhost:8080/"
        },
        "id": "2QW6dmIZIjwr",
        "outputId": "09b68e88-1f0a-4d07-a07a-f7be0622d4e5"
      },
      "execution_count": 7,
      "outputs": [
        {
          "output_type": "stream",
          "name": "stdout",
          "text": [
            "/content/drive/MyDrive/Pedro Yanez - neutral-farming-om\n"
          ]
        }
      ]
    },
    {
      "cell_type": "code",
      "source": [
        "# Inicializar git en la carpeta del proyecto y configurar identidad\n",
        "!git init\n",
        "!git config --global user.email \"pedroeyanezmel531@gmail.com\"\n",
        "!git config --global user.name \"p1y1m\"\n",
        "\n",
        "# Conectar el remoto de GitHub (recrear si ya existía)\n",
        "!git remote remove origin 2>/dev/null || true\n",
        "!git remote add origin https://github.com/p1y1m/Codes.git\n"
      ],
      "metadata": {
        "colab": {
          "base_uri": "https://localhost:8080/"
        },
        "id": "CRgTeFP3I0A4",
        "outputId": "a4490e12-2e63-4b84-b731-abd8644cd66c"
      },
      "execution_count": 8,
      "outputs": [
        {
          "output_type": "stream",
          "name": "stdout",
          "text": [
            "\u001b[33mhint: Using 'master' as the name for the initial branch. This default branch name\u001b[m\n",
            "\u001b[33mhint: is subject to change. To configure the initial branch name to use in all\u001b[m\n",
            "\u001b[33mhint: of your new repositories, which will suppress this warning, call:\u001b[m\n",
            "\u001b[33mhint: \u001b[m\n",
            "\u001b[33mhint: \tgit config --global init.defaultBranch <name>\u001b[m\n",
            "\u001b[33mhint: \u001b[m\n",
            "\u001b[33mhint: Names commonly chosen instead of 'master' are 'main', 'trunk' and\u001b[m\n",
            "\u001b[33mhint: 'development'. The just-created branch can be renamed via this command:\u001b[m\n",
            "\u001b[33mhint: \u001b[m\n",
            "\u001b[33mhint: \tgit branch -m <name>\u001b[m\n",
            "Initialized empty Git repository in /content/drive/MyDrive/Pedro Yanez - neutral-farming-om/.git/\n"
          ]
        }
      ]
    },
    {
      "cell_type": "code",
      "source": [
        "# Crear .gitignore para evitar archivos de sistema que rompen el add\n",
        "%%bash\n",
        "cat > .gitignore << 'EOF'\n",
        ".ipynb_checkpoints/\n",
        "__pycache__/\n",
        "*.gdoc\n",
        "*.gsheet\n",
        "*.gslides\n",
        "*.tmp\n",
        "*.log\n",
        ".DS_Store\n",
        "drive/\n",
        "sample_data/\n",
        "EOF\n"
      ],
      "metadata": {
        "id": "yCzxYJkhI6gU"
      },
      "execution_count": 9,
      "outputs": []
    },
    {
      "cell_type": "code",
      "source": [
        "# Agregar archivos, hacer commit y subir al remoto\n",
        "!git add .\n",
        "!git status\n",
        "!git commit -m \"Initial commit - Neutral Farming project\"\n",
        "!git branch -M main\n",
        "!git push -u origin main\n"
      ],
      "metadata": {
        "colab": {
          "base_uri": "https://localhost:8080/"
        },
        "id": "5z5pKVtjJCjO",
        "outputId": "e6296a11-e63d-44b5-83f1-5a8f85e752fd"
      },
      "execution_count": 10,
      "outputs": [
        {
          "output_type": "stream",
          "name": "stdout",
          "text": [
            "On branch master\n",
            "\n",
            "No commits yet\n",
            "\n",
            "Changes to be committed:\n",
            "  (use \"git rm --cached <file>...\" to unstage)\n",
            "\t\u001b[32mnew file:   .gitignore\u001b[m\n",
            "\t\u001b[32mnew file:   README.md\u001b[m\n",
            "\t\u001b[32mnew file:   cloudflared-linux-amd64.deb\u001b[m\n",
            "\t\u001b[32mnew file:   data/organic_matter_dataset.csv\u001b[m\n",
            "\t\u001b[32mnew file:   model/artifacts/metrics.json\u001b[m\n",
            "\t\u001b[32mnew file:   model/artifacts/model.joblib\u001b[m\n",
            "\t\u001b[32mnew file:   om.db\u001b[m\n",
            "\t\u001b[32mnew file:   requirements.txt\u001b[m\n",
            "\t\u001b[32mnew file:   src/__init__.py\u001b[m\n",
            "\t\u001b[32mnew file:   src/api.py\u001b[m\n",
            "\t\u001b[32mnew file:   src/db.py\u001b[m\n",
            "\t\u001b[32mnew file:   src/models.py\u001b[m\n",
            "\t\u001b[32mnew file:   src/schema.py\u001b[m\n",
            "\t\u001b[32mnew file:   src/train_model.py\u001b[m\n",
            "\t\u001b[32mnew file:   src/utils.py\u001b[m\n",
            "\n",
            "[master (root-commit) 66ecd12] Initial commit - Neutral Farming project\n",
            " 15 files changed, 268 insertions(+)\n",
            " create mode 100644 .gitignore\n",
            " create mode 100644 README.md\n",
            " create mode 100644 cloudflared-linux-amd64.deb\n",
            " create mode 100644 data/organic_matter_dataset.csv\n",
            " create mode 100644 model/artifacts/metrics.json\n",
            " create mode 100644 model/artifacts/model.joblib\n",
            " create mode 100644 om.db\n",
            " create mode 100644 requirements.txt\n",
            " create mode 100644 src/__init__.py\n",
            " create mode 100644 src/api.py\n",
            " create mode 100644 src/db.py\n",
            " create mode 100644 src/models.py\n",
            " create mode 100644 src/schema.py\n",
            " create mode 100644 src/train_model.py\n",
            " create mode 100644 src/utils.py\n",
            "fatal: could not read Username for 'https://github.com': No such device or address\n"
          ]
        }
      ]
    },
    {
      "cell_type": "code",
      "source": [
        "# Generar el PAT en GitHub\n",
        "\n",
        "# Ir a GitHub tokens\n",
        "#Tokens (classic).\n",
        "\n",
        "#Hacer clic en Generate new token (classic).\n",
        "\n",
        "#Poner un nombre (ej: colab-push), seleccionar repo y poner una expiración\n",
        "\n",
        "#Copiar el token generado (empieza con ghp_...)."
      ],
      "metadata": {
        "id": "432f_r9AMFcP"
      },
      "execution_count": null,
      "outputs": []
    },
    {
      "cell_type": "code",
      "source": [
        "# Configurar identidad de GitHub\n",
        "!git config --global user.email \"pedroeyanezmel531@gmail.com\"\n",
        "!git config --global user.name \"p1y1m\"\n",
        "\n",
        "# Eliminar remoto anterior si existe\n",
        "!git remote remove origin || true\n",
        "\n",
        "# Conectar al nuevo repositorio usando el PAT directamente\n",
        "!git remote add origin https://#INSERTAR-TOKEN-PAT@github.com/p1y1m/Tarea-Neutral-Farm.git\n",
        "\n",
        "# Cambiar la rama a main\n",
        "!git branch -M main\n",
        "\n",
        "# Subir el proyecto al nuevo repositorio\n",
        "!git push -u origin main\n",
        "\n"
      ],
      "metadata": {
        "colab": {
          "base_uri": "https://localhost:8080/"
        },
        "id": "6WvTnvlZR57f",
        "outputId": "23fc3c8a-b10e-4c72-fa7e-14003b21e6c9"
      },
      "execution_count": 15,
      "outputs": [
        {
          "output_type": "stream",
          "name": "stdout",
          "text": [
            "Enumerating objects: 21, done.\n",
            "Counting objects:   4% (1/21)\rCounting objects:   9% (2/21)\rCounting objects:  14% (3/21)\rCounting objects:  19% (4/21)\rCounting objects:  23% (5/21)\rCounting objects:  28% (6/21)\rCounting objects:  33% (7/21)\rCounting objects:  38% (8/21)\rCounting objects:  42% (9/21)\rCounting objects:  47% (10/21)\rCounting objects:  52% (11/21)\rCounting objects:  57% (12/21)\rCounting objects:  61% (13/21)\rCounting objects:  66% (14/21)\rCounting objects:  71% (15/21)\rCounting objects:  76% (16/21)\rCounting objects:  80% (17/21)\rCounting objects:  85% (18/21)\rCounting objects:  90% (19/21)\rCounting objects:  95% (20/21)\rCounting objects: 100% (21/21)\rCounting objects: 100% (21/21), done.\n",
            "Delta compression using up to 2 threads\n",
            "Compressing objects: 100% (19/19), done.\n",
            "Writing objects: 100% (21/21), 19.22 MiB | 7.35 MiB/s, done.\n",
            "Total 21 (delta 0), reused 0 (delta 0), pack-reused 0\n",
            "To https://github.com/p1y1m/Tarea-Neutral-Farm.git\n",
            " * [new branch]      main -> main\n",
            "Branch 'main' set up to track remote branch 'main' from 'origin'.\n"
          ]
        }
      ]
    }
  ]
}